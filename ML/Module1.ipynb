{
 "cells": [
  {
   "cell_type": "markdown",
   "metadata": {},
   "source": [
    "# Machine Learning Basics\n",
    "In this module, you'll be acquiring and handling datasets. You will be using the Cinema Data, Salary Data and Reviews Data for the tasks in this module. <br> <br>\n",
    "**Pipeline:**\n",
    "* Acquiring the data\n",
    "* Handling files and formats\n",
    "* Data Analysis\n",
    "* Prediction\n",
    "* Analysing results"
   ]
  },
  {
   "cell_type": "markdown",
   "metadata": {},
   "source": [
    "## Dataset Handling\n",
    "* You can find the Reviews Data in a RAR file in the 'Data' directory. Extract this dataset and use it for this module.\n",
    "\n",
    "* The dataset contains positive and negative movie reviews. The files 'Positive_Reviews.txt' and 'Negative_Reviews.txt' contain names of files having positive and negative reviews respectively. Create two directories ‘pos’ and ‘neg’, and segregate the reviews accordingly into the two directories.\n",
    "\n",
    "* Load ‘cv000_29590.csv’ and report the number of words present in the first column.\n",
    "\n",
    "* Find the number of unique words in the first column. For this task, ignore punctuations, that is, punctuations are not considered as a word or a part of it.\n",
    "\n",
    "* Lookups: OS module, String functions"
   ]
  },
  {
   "cell_type": "code",
   "execution_count": 6,
   "metadata": {},
   "outputs": [],
   "source": [
    "import os\n",
    "import shutil"
   ]
  },
  {
   "cell_type": "code",
   "execution_count": 52,
   "metadata": {
    "scrolled": true
   },
   "outputs": [],
   "source": [
    "#Segregating the reviews into Positive and Negative\n",
    "\n",
    "os.mkdir(\"Data/Reviews/Assignment_1_a/Reviews/neg\")\n",
    "os.mkdir(\"Data/Reviews/Assignment_1_a/Reviews/pos\")\n",
    "file = open(\"Data/Reviews/Assignment_1_a/Negative_Reviews.txt\", \"r\")\n",
    "negative = file.read()\n",
    "#print(negative)\n",
    "file = open(\"Data/Reviews/Assignment_1_a/Positive_Reviews.txt\", \"r\")\n",
    "positive = file.read()\n",
    "#print(positive)\n",
    "\n",
    "negative = list(negative.split(\",\"))\n",
    "positive = list(positive.split(\",\"))\n",
    "neg = [item.strip(\" '[]\") for item in negative]\n",
    "pos = [item.strip(\" '[]\") for item in positive]\n",
    "   \n",
    "#print(neg)\n",
    "for i in neg:\n",
    "    shutil.copy(\"Data/Reviews/Assignment_1_a/Reviews/\" + i, \"Data/Reviews/Assignment_1_a/Reviews/neg/\")\n",
    "for i in pos:\n",
    "    shutil.copy(\"Data/Reviews/Assignment_1_a/Reviews/\" + i, \"Data/Reviews/Assignment_1_a/Reviews/pos/\")"
   ]
  },
  {
   "cell_type": "code",
   "execution_count": 80,
   "metadata": {},
   "outputs": [
    {
     "data": {
      "text/html": [
       "<div>\n",
       "<style scoped>\n",
       "    .dataframe tbody tr th:only-of-type {\n",
       "        vertical-align: middle;\n",
       "    }\n",
       "\n",
       "    .dataframe tbody tr th {\n",
       "        vertical-align: top;\n",
       "    }\n",
       "\n",
       "    .dataframe thead th {\n",
       "        text-align: right;\n",
       "    }\n",
       "</style>\n",
       "<table border=\"1\" class=\"dataframe\">\n",
       "  <thead>\n",
       "    <tr style=\"text-align: right;\">\n",
       "      <th></th>\n",
       "      <th>0</th>\n",
       "      <th>1</th>\n",
       "      <th>2</th>\n",
       "      <th>3</th>\n",
       "      <th>4</th>\n",
       "      <th>5</th>\n",
       "    </tr>\n",
       "  </thead>\n",
       "  <tbody>\n",
       "    <tr>\n",
       "      <th>0</th>\n",
       "      <td>films adapted from comic books have had plenty...</td>\n",
       "      <td>whether they're about superheroes ( batman</td>\n",
       "      <td>superman</td>\n",
       "      <td>spawn )</td>\n",
       "      <td>or geared toward kids ( casper ) or the artho...</td>\n",
       "      <td>but there's never really been a comic book li...</td>\n",
       "    </tr>\n",
       "    <tr>\n",
       "      <th>1</th>\n",
       "      <td>for starters</td>\n",
       "      <td>it was created by alan moore ( and eddie camp...</td>\n",
       "      <td>who brought the medium to a whole new level i...</td>\n",
       "      <td>None</td>\n",
       "      <td>None</td>\n",
       "      <td>None</td>\n",
       "    </tr>\n",
       "    <tr>\n",
       "      <th>2</th>\n",
       "      <td>to say moore and campbell thoroughly researche...</td>\n",
       "      <td>None</td>\n",
       "      <td>None</td>\n",
       "      <td>None</td>\n",
       "      <td>None</td>\n",
       "      <td>None</td>\n",
       "    </tr>\n",
       "    <tr>\n",
       "      <th>3</th>\n",
       "      <td>the book ( or \" graphic novel</td>\n",
       "      <td>\" if you will ) is over 500 pages long and in...</td>\n",
       "      <td>None</td>\n",
       "      <td>None</td>\n",
       "      <td>None</td>\n",
       "      <td>None</td>\n",
       "    </tr>\n",
       "    <tr>\n",
       "      <th>4</th>\n",
       "      <td>in other words</td>\n",
       "      <td>don't dismiss this film because of its source .</td>\n",
       "      <td>None</td>\n",
       "      <td>None</td>\n",
       "      <td>None</td>\n",
       "      <td>None</td>\n",
       "    </tr>\n",
       "  </tbody>\n",
       "</table>\n",
       "</div>"
      ],
      "text/plain": [
       "                                                   0  \\\n",
       "0  films adapted from comic books have had plenty...   \n",
       "1                                      for starters    \n",
       "2  to say moore and campbell thoroughly researche...   \n",
       "3                     the book ( or \" graphic novel    \n",
       "4                                    in other words    \n",
       "\n",
       "                                                   1  \\\n",
       "0        whether they're about superheroes ( batman    \n",
       "1   it was created by alan moore ( and eddie camp...   \n",
       "2                                               None   \n",
       "3   \" if you will ) is over 500 pages long and in...   \n",
       "4    don't dismiss this film because of its source .   \n",
       "\n",
       "                                                   2          3  \\\n",
       "0                                          superman    spawn )    \n",
       "1   who brought the medium to a whole new level i...       None   \n",
       "2                                               None       None   \n",
       "3                                               None       None   \n",
       "4                                               None       None   \n",
       "\n",
       "                                                   4  \\\n",
       "0   or geared toward kids ( casper ) or the artho...   \n",
       "1                                               None   \n",
       "2                                               None   \n",
       "3                                               None   \n",
       "4                                               None   \n",
       "\n",
       "                                                   5  \n",
       "0   but there's never really been a comic book li...  \n",
       "1                                               None  \n",
       "2                                               None  \n",
       "3                                               None  \n",
       "4                                               None  "
      ]
     },
     "execution_count": 80,
     "metadata": {},
     "output_type": "execute_result"
    }
   ],
   "source": [
    "#Working with cv000_29590.csv\n",
    "import pandas as pd\n",
    "#df = pd.read_fwf(\"Data/Reviews/Assignment_1_a/Reviews/cv000_29590.txt\")\n",
    "#df\n",
    "df = pd.read_csv(\"Data/Reviews/Assignment_1_a/Reviews/cv000_29590.txt\", sep = \";|:|,\", header = None, engine = 'python')\n",
    "df.head()"
   ]
  },
  {
   "cell_type": "code",
   "execution_count": 96,
   "metadata": {},
   "outputs": [
    {
     "name": "stdout",
     "output_type": "stream",
     "text": [
      "Number of words:  218\n",
      "Number of unique words:  159\n"
     ]
    }
   ],
   "source": [
    "words = []\n",
    "for i in df[0]:\n",
    "    words.append(i.split(\" \"))\n",
    "final = [word for i in words for word in i if word.isalpha()]\n",
    "#print(final)\n",
    "print(\"Number of words: \", len(final))\n",
    "print(\"Number of unique words: \", len(set(final)))"
   ]
  }
 ],
 "metadata": {
  "kernelspec": {
   "display_name": "Python 3 (ipykernel)",
   "language": "python",
   "name": "python3"
  },
  "language_info": {
   "codemirror_mode": {
    "name": "ipython",
    "version": 3
   },
   "file_extension": ".py",
   "mimetype": "text/x-python",
   "name": "python",
   "nbconvert_exporter": "python",
   "pygments_lexer": "ipython3",
   "version": "3.9.7"
  }
 },
 "nbformat": 4,
 "nbformat_minor": 2
}
