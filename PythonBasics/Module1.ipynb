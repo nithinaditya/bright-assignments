{
 "cells": [
  {
   "cell_type": "markdown",
   "metadata": {},
   "source": [
    "# Python Basics"
   ]
  },
  {
   "cell_type": "markdown",
   "metadata": {},
   "source": [
    "These assignments aim to get you acquainted with Python, which is an important requirement for all the research done at Solarillion Foundation. Apart from teaching you Python, these assignments also aim to make you a better programmer and cultivate better coding practices. \n",
    "\n",
    "Visit these links for more details: <br>\n",
    "PEP8 Practices: https://www.python.org/dev/peps/pep-0008/ <br>\n",
    "Check PEP8: http://pep8online.com <br>\n",
    "Python Reference: https://www.py4e.com/lessons <br>\n",
    "\n",
    "Do use Google efficiently, and refer to StackOverflow for clarifying any programming doubts. If you're still stuck, feel free to ask a TA to help you.\n",
    "\n",
    "Each task in the assignment comprises of at least two cells. There are function definitions wherein you will name the function(s), and write code to solve the problem at hand. You will call the function(s) in the last cell of each task, and check your output.\n",
    "\n",
    "We encourage you to play around and learn as much as possible, and be as creative as you can get. More than anything, have fun doing these assignments. Enjoy!"
   ]
  },
  {
   "cell_type": "markdown",
   "metadata": {},
   "source": [
    "# Important\n",
    "* **Only the imports and functions must be present when you upload this notebook to GitHub for verification.** \n",
    "* **Do not upload it until you want to get it verified. Do not change function names or add extra cells or code, or remove anything.**\n",
    "* **For your rough work and four showing your code to TAs, use a different notebook with the name Module2Playground.ipynb and copy only the final functions to this notebook for verification.**"
   ]
  },
  {
   "cell_type": "markdown",
   "metadata": {},
   "source": [
    "# Module 1\n",
    "Scope: Conditions, Loops, Exceptions, Data Structures, Lambda Functions"
   ]
  },
  {
   "cell_type": "markdown",
   "metadata": {},
   "source": [
    "## Imports - Always Execute First!\n",
    "Import any modules and turn on magic here:"
   ]
  },
  {
   "cell_type": "markdown",
   "metadata": {},
   "source": [
    "## Task 1"
   ]
  },
  {
   "cell_type": "markdown",
   "metadata": {},
   "source": [
    "Print the pattern given in the docstring."
   ]
  },
  {
   "cell_type": "markdown",
   "metadata": {},
   "source": [
    "**Question 1**"
   ]
  },
  {
   "cell_type": "code",
   "execution_count": 62,
   "metadata": {},
   "outputs": [],
   "source": [
    "def number_pattern(n):\n",
    "    \"\"\"\n",
    "        Prints the following pattern for `n` rows:\n",
    "\n",
    "        1\n",
    "        1 2\n",
    "        1 2 3\n",
    "        ...\n",
    "        1 2 3 ... n\n",
    "\n",
    "        Parameters\n",
    "        ----------\n",
    "        n : integer\n",
    "            Number of lines\n",
    "\n",
    "        Output\n",
    "        ------\n",
    "        Prints to stdout (default output)\n",
    "\n",
    "        Ideas\n",
    "        -----\n",
    "        Looping, Nested Loops\n",
    "    \"\"\"\n",
    "    for i in range(n):\n",
    "        print()\n",
    "        for j in range(i+1):\n",
    "            print(j+1, end = \"\")\n",
    "    "
   ]
  },
  {
   "cell_type": "code",
   "execution_count": 63,
   "metadata": {},
   "outputs": [
    {
     "name": "stdout",
     "output_type": "stream",
     "text": [
      "\n",
      "1\n",
      "12\n",
      "123\n",
      "1234\n",
      "12345"
     ]
    }
   ],
   "source": [
    "#call function here\n",
    "number_pattern(5)"
   ]
  },
  {
   "cell_type": "markdown",
   "metadata": {},
   "source": [
    "**Question 2**"
   ]
  },
  {
   "cell_type": "code",
   "execution_count": 64,
   "metadata": {},
   "outputs": [],
   "source": [
    "def zero_star_pattern(n):\n",
    "    \"\"\"\n",
    "        Prints the following `n` times:\n",
    "\n",
    "        *\n",
    "        00\n",
    "        ***\n",
    "        0000\n",
    "        *****\n",
    "        0000\n",
    "        ***\n",
    "        00\n",
    "        *\n",
    "\n",
    "        Example\n",
    "        -------\n",
    "        n = 2\n",
    "        \n",
    "        *\n",
    "        00\n",
    "        ***\n",
    "        0000\n",
    "        *****\n",
    "        0000\n",
    "        ***\n",
    "        00\n",
    "        *\n",
    "        00\n",
    "        ***\n",
    "        0000\n",
    "        *****\n",
    "        0000\n",
    "        ***\n",
    "        00\n",
    "        *\n",
    "\n",
    "        Parameters\n",
    "        ----------\n",
    "        n : integer\n",
    "            Number of times to print pattern\n",
    "\n",
    "        Output\n",
    "        ------\n",
    "        Prints to stdout (default output)\n",
    "\n",
    "        Ideas\n",
    "        -----\n",
    "        Looping, Conditions\n",
    "    \"\"\"\n",
    "    obj1 =\"*\"\n",
    "    obj2 = \"0\"\n",
    "    list1 = []\n",
    "    \n",
    "    dummy = 1\n",
    "    for j in range(0, 3):\n",
    "        if dummy == 5:\n",
    "            list1.append(obj1 * (dummy))\n",
    "            break\n",
    "        list1.append(obj1*(dummy))\n",
    "        list1.append(obj2*(dummy + 1))\n",
    "        dummy += 2\n",
    "    \n",
    "    for x in range(n):  \n",
    "        for i in range(int(len(list1))):\n",
    "            if x > 0 and i == 0:\n",
    "                continue\n",
    "            print(list1[i])\n",
    "        for i in range(int(len(list1)) -2, -1, -1):\n",
    "            print(list1[i])\n",
    "        "
   ]
  },
  {
   "cell_type": "code",
   "execution_count": 65,
   "metadata": {
    "scrolled": false
   },
   "outputs": [
    {
     "name": "stdout",
     "output_type": "stream",
     "text": [
      "*\n",
      "00\n",
      "***\n",
      "0000\n",
      "*****\n",
      "0000\n",
      "***\n",
      "00\n",
      "*\n",
      "00\n",
      "***\n",
      "0000\n",
      "*****\n",
      "0000\n",
      "***\n",
      "00\n",
      "*\n",
      "00\n",
      "***\n",
      "0000\n",
      "*****\n",
      "0000\n",
      "***\n",
      "00\n",
      "*\n"
     ]
    }
   ],
   "source": [
    "zero_star_pattern(3)"
   ]
  },
  {
   "cell_type": "markdown",
   "metadata": {},
   "source": [
    "**Question 3**"
   ]
  },
  {
   "cell_type": "code",
   "execution_count": 165,
   "metadata": {},
   "outputs": [],
   "source": [
    "from math import *\n",
    "def trigonometric_pattern(x, n):\n",
    "    \n",
    "    for i in range(1, n+1):\n",
    "        k = i*sin(radians(x))**i + i*cos(radians(x))**i\n",
    "        print()\n",
    "        k = round(k)\n",
    "        for j in range(k):\n",
    "            print(\"$\", end = '')\n",
    "    \"\"\"\n",
    "        Consider `k` where k = i*sin^i(x) + i*cos^i(x), 1 <= i <= n. Print `int(k)` $\n",
    "        symbols for all `i` from 1 to `n`. If k < 1, print 1 $ symbol.\n",
    "        \n",
    "        \n",
    "        \n",
    "        Example\n",
    "        -------\n",
    "        x = 90, n = 5\n",
    "        \n",
    "        $\n",
    "        $$\n",
    "        $$$\n",
    "        $$$$\n",
    "        $$$$$\n",
    "        \n",
    "        Parameters\n",
    "        ----------\n",
    "        x : float\n",
    "            Angle in degrees\n",
    "        n : integer\n",
    "            Number of times\n",
    "\n",
    "        Output\n",
    "        ------\n",
    "        Prints to stdout (default output)\n",
    "\n",
    "        Ideas\n",
    "        -----\n",
    "        Looping, math.sin, math.cos, math.pow\n",
    "    \"\"\"\n",
    "    "
   ]
  },
  {
   "cell_type": "code",
   "execution_count": 166,
   "metadata": {},
   "outputs": [
    {
     "name": "stdout",
     "output_type": "stream",
     "text": [
      "\n",
      "$\n",
      "$$\n",
      "$$$\n",
      "$$$$\n",
      "$$$$$"
     ]
    }
   ],
   "source": [
    "# Call your function here\n",
    "trigonometric_pattern(90, 5)"
   ]
  },
  {
   "cell_type": "markdown",
   "metadata": {},
   "source": [
    "## Task 2"
   ]
  },
  {
   "cell_type": "markdown",
   "metadata": {},
   "source": [
    "Learn about data structures, exception handling and lambda functions."
   ]
  },
  {
   "cell_type": "markdown",
   "metadata": {},
   "source": [
    "**Question 1**"
   ]
  },
  {
   "cell_type": "code",
   "execution_count": 68,
   "metadata": {},
   "outputs": [],
   "source": [
    "dictionary = {'ant': 2, 'dog': 12, 'duck': 20, 'hen': 11, 'other': 99}"
   ]
  },
  {
   "cell_type": "code",
   "execution_count": 69,
   "metadata": {},
   "outputs": [],
   "source": [
    "keys = ['ant', 'cat', 'duck', 'hen', 'lion', 'zebra']"
   ]
  },
  {
   "cell_type": "code",
   "execution_count": 70,
   "metadata": {},
   "outputs": [],
   "source": [
    "def dictionary_lookup(dictionary, keys):\n",
    "    \"\"\"\n",
    "        For all elements in `keys`, print the value associated with them in `dictionary`.\n",
    "        Use exception handling to take care of a non-existent key, and print the value \n",
    "        associated with `other` instead. Use exception handling.\n",
    "\n",
    "        Parameters\n",
    "        ----------\n",
    "        dictionary : dict\n",
    "            Dictionary containing key-value pairs\n",
    "\n",
    "        keys : list\n",
    "            List of keys to lookup values for\n",
    "\n",
    "        Output\n",
    "        ------\n",
    "        Prints to stdout (default output)\n",
    "\n",
    "        Ideas\n",
    "        -----\n",
    "        try, except\n",
    "    \"\"\"\n",
    "    for i in keys:\n",
    "        try:\n",
    "            print(dictionary[i])\n",
    "\n",
    "        except KeyError as ke:\n",
    "            print(\"Key Not Found in Employee Dictionary\", ke)\n"
   ]
  },
  {
   "cell_type": "code",
   "execution_count": 71,
   "metadata": {
    "scrolled": true
   },
   "outputs": [
    {
     "name": "stdout",
     "output_type": "stream",
     "text": [
      "2\n",
      "Key Not Found in Employee Dictionary 'cat'\n",
      "20\n",
      "11\n",
      "Key Not Found in Employee Dictionary 'lion'\n",
      "Key Not Found in Employee Dictionary 'zebra'\n"
     ]
    }
   ],
   "source": [
    "# Call your function here\n",
    "dictionary_lookup(dictionary, keys)"
   ]
  },
  {
   "cell_type": "markdown",
   "metadata": {},
   "source": [
    "**Question 2**"
   ]
  },
  {
   "cell_type": "code",
   "execution_count": 73,
   "metadata": {},
   "outputs": [],
   "source": [
    "data = [0.00, 0.12, 0.24, 0.36, 0.48, 0.52, 0.65, 0.50, 0.11, 0.09]"
   ]
  },
  {
   "cell_type": "code",
   "execution_count": 74,
   "metadata": {},
   "outputs": [],
   "source": [
    "mean = sum(data)/len(data)\n",
    "\n",
    "def helper(num):\n",
    "    if(num < mean):\n",
    "        return 0\n",
    "    else:\n",
    "        return 1\n",
    "\n",
    "def round_off(data):\n",
    "    new_data = list(map(lambda x: helper(x), data))\n",
    "    return new_data\n",
    "    \"\"\"\n",
    "        Round off values in `data` below the mean to 0, and those above the mean to 1,\n",
    "        and return the list of rounded values. Do not use looping statements.\n",
    "\n",
    "        Parameters\n",
    "        ----------\n",
    "        data : list\n",
    "            List of values to round off\n",
    "\n",
    "        Return\n",
    "        ------\n",
    "        List of rounded values\n",
    "        Note: You must return the list with rounded values, not just print it.\n",
    "\n",
    "        Ideas\n",
    "        -----\n",
    "        lambda, map\n",
    "    \"\"\"\n",
    "    "
   ]
  },
  {
   "cell_type": "code",
   "execution_count": 75,
   "metadata": {},
   "outputs": [
    {
     "data": {
      "text/plain": [
       "[0, 0, 0, 1, 1, 1, 1, 1, 0, 0]"
      ]
     },
     "execution_count": 75,
     "metadata": {},
     "output_type": "execute_result"
    }
   ],
   "source": [
    "# Call your function here - print the returned list to check your function\n",
    "round_off(data)"
   ]
  },
  {
   "cell_type": "markdown",
   "metadata": {},
   "source": [
    "**Question 3**"
   ]
  },
  {
   "cell_type": "code",
   "execution_count": 76,
   "metadata": {},
   "outputs": [],
   "source": [
    "def perfect_squares(n):\n",
    "    res = []\n",
    "    for i in range(1, n):\n",
    "        if i**0.5 == int(i**0.5):\n",
    "            res.append(i)\n",
    "    return res\n",
    "    \"\"\"\n",
    "        Return a list of all perfect squares less than `n`, using list comprehension.\n",
    "\n",
    "        Parameters\n",
    "        ----------\n",
    "        n : integer\n",
    "            Limit value\n",
    "\n",
    "        Return\n",
    "        ------\n",
    "        List of all perfect squares less than `n`\n",
    "        Note: You must return the list with perfect squares, not just print it.\n",
    "\n",
    "        Ideas\n",
    "        -----\n",
    "        Looping, If, List Comprehension\n",
    "    \"\"\"\n",
    "    "
   ]
  },
  {
   "cell_type": "code",
   "execution_count": 77,
   "metadata": {
    "scrolled": true
   },
   "outputs": [
    {
     "name": "stdout",
     "output_type": "stream",
     "text": [
      "[1, 4, 9, 16, 25]\n"
     ]
    }
   ],
   "source": [
    "# Call your function name - print the returned list to check your function\n",
    "print(perfect_squares(26))"
   ]
  },
  {
   "cell_type": "markdown",
   "metadata": {},
   "source": [
    "Once you're done, move on to Module 2. Nice work!"
   ]
  }
 ],
 "metadata": {
  "kernelspec": {
   "display_name": "Python 3 (ipykernel)",
   "language": "python",
   "name": "python3"
  },
  "language_info": {
   "codemirror_mode": {
    "name": "ipython",
    "version": 3
   },
   "file_extension": ".py",
   "mimetype": "text/x-python",
   "name": "python",
   "nbconvert_exporter": "python",
   "pygments_lexer": "ipython3",
   "version": "3.9.7"
  }
 },
 "nbformat": 4,
 "nbformat_minor": 2
}
